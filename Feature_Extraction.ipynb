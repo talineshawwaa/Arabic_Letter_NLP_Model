{
  "cells": [
    {
      "cell_type": "markdown",
      "metadata": {
        "id": "bE4KmMRnaGlV"
      },
      "source": [
        "### Feature Extraction"
      ]
    },
    {
      "cell_type": "code",
      "execution_count": 1,
      "metadata": {
        "colab": {
          "base_uri": "https://localhost:8080/",
          "height": 206
        },
        "id": "xDjnbmAHWrMF",
        "outputId": "030976de-256d-4a5e-d9ba-06420a4d83fa"
      },
      "outputs": [
        {
          "data": {
            "text/html": [
              "<div>\n",
              "<style scoped>\n",
              "    .dataframe tbody tr th:only-of-type {\n",
              "        vertical-align: middle;\n",
              "    }\n",
              "\n",
              "    .dataframe tbody tr th {\n",
              "        vertical-align: top;\n",
              "    }\n",
              "\n",
              "    .dataframe thead th {\n",
              "        text-align: right;\n",
              "    }\n",
              "</style>\n",
              "<table border=\"1\" class=\"dataframe\">\n",
              "  <thead>\n",
              "    <tr style=\"text-align: right;\">\n",
              "      <th></th>\n",
              "      <th>lemma_id</th>\n",
              "      <th>lemma</th>\n",
              "      <th>language</th>\n",
              "      <th>pos_cat</th>\n",
              "      <th>pos</th>\n",
              "      <th>root</th>\n",
              "      <th>gender</th>\n",
              "      <th>normalized_lemma</th>\n",
              "      <th>reshaped_lemma</th>\n",
              "      <th>char_tokens</th>\n",
              "      <th>letter_shapes</th>\n",
              "    </tr>\n",
              "  </thead>\n",
              "  <tbody>\n",
              "    <tr>\n",
              "      <th>0</th>\n",
              "      <td>2023254710</td>\n",
              "      <td>سَاوِي</td>\n",
              "      <td>عامية</td>\n",
              "      <td>اسم</td>\n",
              "      <td>صفة</td>\n",
              "      <td>س و ي</td>\n",
              "      <td>مذكر</td>\n",
              "      <td>ساوي</td>\n",
              "      <td>ﻱﻭﺎﺳ</td>\n",
              "      <td>['س', 'ا', 'و', 'ي']</td>\n",
              "      <td>[['س', 'ﺱ', 'ﺴ', 'ﺳ', 'ﺴ'], ['ا', 'ﺍ', 'ﺎ'], [...</td>\n",
              "    </tr>\n",
              "    <tr>\n",
              "      <th>1</th>\n",
              "      <td>2023254711</td>\n",
              "      <td>رْكِيد</td>\n",
              "      <td>عامية</td>\n",
              "      <td>اسم</td>\n",
              "      <td>اسم</td>\n",
              "      <td>ر ك د</td>\n",
              "      <td>مذكر</td>\n",
              "      <td>ركيد</td>\n",
              "      <td>ﺪﻴﻛﺭ</td>\n",
              "      <td>['ر', 'ك', 'ي', 'د']</td>\n",
              "      <td>[['ر', 'ﺭ', 'ﺮ'], ['ك', 'ﻙ', 'ﻜ', 'ﻛ', 'ﻜ'], [...</td>\n",
              "    </tr>\n",
              "    <tr>\n",
              "      <th>2</th>\n",
              "      <td>2023254712</td>\n",
              "      <td>دُمَاجٌ</td>\n",
              "      <td>عامية</td>\n",
              "      <td>اسم</td>\n",
              "      <td>اسم</td>\n",
              "      <td>د م ج</td>\n",
              "      <td>مذكر</td>\n",
              "      <td>دماج</td>\n",
              "      <td>ﺝﺎﻣﺩ</td>\n",
              "      <td>['د', 'م', 'ا', 'ج']</td>\n",
              "      <td>[['د', 'ﺩ', 'ﺪ'], ['م', 'ﻡ', 'ﻤ', 'ﻣ', 'ﻤ'], [...</td>\n",
              "    </tr>\n",
              "    <tr>\n",
              "      <th>3</th>\n",
              "      <td>2023254713</td>\n",
              "      <td>دَامِرٌ</td>\n",
              "      <td>عامية</td>\n",
              "      <td>اسم</td>\n",
              "      <td>اسم</td>\n",
              "      <td>د م ر</td>\n",
              "      <td>مذكر</td>\n",
              "      <td>دامر</td>\n",
              "      <td>ﺮﻣﺍﺩ</td>\n",
              "      <td>['د', 'ا', 'م', 'ر']</td>\n",
              "      <td>[['د', 'ﺩ', 'ﺪ'], ['ا', 'ﺍ', 'ﺎ'], ['م', 'ﻡ', ...</td>\n",
              "    </tr>\n",
              "    <tr>\n",
              "      <th>4</th>\n",
              "      <td>2023254714</td>\n",
              "      <td>جَعَارٌ</td>\n",
              "      <td>عامية</td>\n",
              "      <td>اسم</td>\n",
              "      <td>صفة</td>\n",
              "      <td>ج ع ر</td>\n",
              "      <td>مذكر</td>\n",
              "      <td>جعار</td>\n",
              "      <td>ﺭﺎﻌﺟ</td>\n",
              "      <td>['ج', 'ع', 'ا', 'ر']</td>\n",
              "      <td>[['ج', 'ﺝ', 'ﺠ', 'ﺟ', 'ﺠ'], ['ع', 'ﻉ', 'ﻌ', 'ﻋ...</td>\n",
              "    </tr>\n",
              "  </tbody>\n",
              "</table>\n",
              "</div>"
            ],
            "text/plain": [
              "     lemma_id    lemma language pos_cat  pos   root gender normalized_lemma  \\\n",
              "0  2023254710   سَاوِي    عامية     اسم  صفة  س و ي   مذكر             ساوي   \n",
              "1  2023254711   رْكِيد    عامية     اسم  اسم  ر ك د   مذكر             ركيد   \n",
              "2  2023254712  دُمَاجٌ    عامية     اسم  اسم  د م ج   مذكر             دماج   \n",
              "3  2023254713  دَامِرٌ    عامية     اسم  اسم  د م ر   مذكر             دامر   \n",
              "4  2023254714  جَعَارٌ    عامية     اسم  صفة  ج ع ر   مذكر             جعار   \n",
              "\n",
              "  reshaped_lemma           char_tokens  \\\n",
              "0           ﻱﻭﺎﺳ  ['س', 'ا', 'و', 'ي']   \n",
              "1           ﺪﻴﻛﺭ  ['ر', 'ك', 'ي', 'د']   \n",
              "2           ﺝﺎﻣﺩ  ['د', 'م', 'ا', 'ج']   \n",
              "3           ﺮﻣﺍﺩ  ['د', 'ا', 'م', 'ر']   \n",
              "4           ﺭﺎﻌﺟ  ['ج', 'ع', 'ا', 'ر']   \n",
              "\n",
              "                                       letter_shapes  \n",
              "0  [['س', 'ﺱ', 'ﺴ', 'ﺳ', 'ﺴ'], ['ا', 'ﺍ', 'ﺎ'], [...  \n",
              "1  [['ر', 'ﺭ', 'ﺮ'], ['ك', 'ﻙ', 'ﻜ', 'ﻛ', 'ﻜ'], [...  \n",
              "2  [['د', 'ﺩ', 'ﺪ'], ['م', 'ﻡ', 'ﻤ', 'ﻣ', 'ﻤ'], [...  \n",
              "3  [['د', 'ﺩ', 'ﺪ'], ['ا', 'ﺍ', 'ﺎ'], ['م', 'ﻡ', ...  \n",
              "4  [['ج', 'ﺝ', 'ﺠ', 'ﺟ', 'ﺠ'], ['ع', 'ﻉ', 'ﻌ', 'ﻋ...  "
            ]
          },
          "execution_count": 1,
          "metadata": {},
          "output_type": "execute_result"
        }
      ],
      "source": [
        "import pandas as pd\n",
        "\n",
        "df = pd.read_csv('dataset/Qabas-dataset-cleaned.csv')\n",
        "df.head()"
      ]
    },
    {
      "cell_type": "code",
      "execution_count": 2,
      "metadata": {
        "colab": {
          "base_uri": "https://localhost:8080/"
        },
        "id": "aRmvRpSgXvmj",
        "outputId": "d9649b11-8749-40e1-80ef-0eba70ae376f"
      },
      "outputs": [
        {
          "name": "stdout",
          "output_type": "stream",
          "text": [
            "Defaulting to user installation because normal site-packages is not writeable\n",
            "Requirement already satisfied: numpy in /Users/talineshawwa/Library/Python/3.11/lib/python/site-packages (1.26.2)\n",
            "Collecting numpy\n",
            "  Using cached numpy-2.2.4-cp311-cp311-macosx_14_0_arm64.whl.metadata (62 kB)\n",
            "Collecting gensim\n",
            "  Downloading gensim-4.3.3-cp311-cp311-macosx_11_0_arm64.whl.metadata (8.1 kB)\n",
            "Collecting numpy\n",
            "  Downloading numpy-1.26.4-cp311-cp311-macosx_11_0_arm64.whl.metadata (114 kB)\n",
            "Collecting scipy<1.14.0,>=1.7.0 (from gensim)\n",
            "  Downloading scipy-1.13.1-cp311-cp311-macosx_12_0_arm64.whl.metadata (60 kB)\n",
            "Collecting smart-open>=1.8.1 (from gensim)\n",
            "  Downloading smart_open-7.1.0-py3-none-any.whl.metadata (24 kB)\n",
            "Requirement already satisfied: wrapt in /Users/talineshawwa/Library/Python/3.11/lib/python/site-packages (from smart-open>=1.8.1->gensim) (1.17.2)\n",
            "Downloading gensim-4.3.3-cp311-cp311-macosx_11_0_arm64.whl (24.0 MB)\n",
            "\u001b[2K   \u001b[90m━━━━━━━━━━━━━━━━━━━━━━━━━━━━━━━━━━━━━━━━\u001b[0m \u001b[32m24.0/24.0 MB\u001b[0m \u001b[31m10.0 MB/s\u001b[0m eta \u001b[36m0:00:00\u001b[0m \u001b[36m0:00:01\u001b[0m\n",
            "\u001b[?25hDownloading numpy-1.26.4-cp311-cp311-macosx_11_0_arm64.whl (14.0 MB)\n",
            "\u001b[2K   \u001b[90m━━━━━━━━━━━━━━━━━━━━━━━━━━━━━━━━━━━━━━━━\u001b[0m \u001b[32m14.0/14.0 MB\u001b[0m \u001b[31m19.7 MB/s\u001b[0m eta \u001b[36m0:00:00\u001b[0ma \u001b[36m0:00:01\u001b[0m\n",
            "\u001b[?25hDownloading scipy-1.13.1-cp311-cp311-macosx_12_0_arm64.whl (30.3 MB)\n",
            "\u001b[2K   \u001b[90m━━━━━━━━━━━━━━━━━━━━━━━━━━━━━━━━━━━━━━━━\u001b[0m \u001b[32m30.3/30.3 MB\u001b[0m \u001b[31m23.5 MB/s\u001b[0m eta \u001b[36m0:00:00\u001b[0ma \u001b[36m0:00:01\u001b[0m\n",
            "\u001b[?25hDownloading smart_open-7.1.0-py3-none-any.whl (61 kB)\n",
            "Installing collected packages: smart-open, numpy, scipy, gensim\n",
            "  Attempting uninstall: numpy\n",
            "    Found existing installation: numpy 1.26.2\n",
            "    Uninstalling numpy-1.26.2:\n",
            "      Successfully uninstalled numpy-1.26.2\n",
            "  Attempting uninstall: scipy\n",
            "    Found existing installation: scipy 1.15.2\n",
            "    Uninstalling scipy-1.15.2:\n",
            "      Successfully uninstalled scipy-1.15.2\n",
            "\u001b[31mERROR: pip's dependency resolver does not currently take into account all the packages that are installed. This behaviour is the source of the following dependency conflicts.\n",
            "tensorflow 2.16.2 requires ml-dtypes~=0.3.1, but you have ml-dtypes 0.5.1 which is incompatible.\n",
            "streamlit 1.33.0 requires pillow<11,>=7.1.0, but you have pillow 11.1.0 which is incompatible.\u001b[0m\u001b[31m\n",
            "\u001b[0mSuccessfully installed gensim-4.3.3 numpy-1.26.4 scipy-1.13.1 smart-open-7.1.0\n"
          ]
        }
      ],
      "source": [
        "!pip install --upgrade numpy gensim\n"
      ]
    },
    {
      "cell_type": "code",
      "execution_count": 3,
      "metadata": {
        "id": "9MSTo_qTX3pI"
      },
      "outputs": [],
      "source": [
        "import numpy as np\n",
        "from gensim.models import KeyedVectors\n"
      ]
    },
    {
      "cell_type": "code",
      "execution_count": 4,
      "metadata": {
        "colab": {
          "base_uri": "https://localhost:8080/",
          "height": 293
        },
        "id": "VAKUGmJOW-5G",
        "outputId": "5fbb7b8b-b49c-40c5-a628-47265f5a2b63"
      },
      "outputs": [
        {
          "data": {
            "text/html": [
              "<div>\n",
              "<style scoped>\n",
              "    .dataframe tbody tr th:only-of-type {\n",
              "        vertical-align: middle;\n",
              "    }\n",
              "\n",
              "    .dataframe tbody tr th {\n",
              "        vertical-align: top;\n",
              "    }\n",
              "\n",
              "    .dataframe thead th {\n",
              "        text-align: right;\n",
              "    }\n",
              "</style>\n",
              "<table border=\"1\" class=\"dataframe\">\n",
              "  <thead>\n",
              "    <tr style=\"text-align: right;\">\n",
              "      <th></th>\n",
              "      <th>lemma_id</th>\n",
              "      <th>lemma</th>\n",
              "      <th>language</th>\n",
              "      <th>pos_cat</th>\n",
              "      <th>pos</th>\n",
              "      <th>root</th>\n",
              "      <th>gender</th>\n",
              "      <th>normalized_lemma</th>\n",
              "      <th>reshaped_lemma</th>\n",
              "      <th>char_tokens</th>\n",
              "      <th>letter_shapes</th>\n",
              "      <th>letter_positions</th>\n",
              "    </tr>\n",
              "  </thead>\n",
              "  <tbody>\n",
              "    <tr>\n",
              "      <th>0</th>\n",
              "      <td>2023254710</td>\n",
              "      <td>سَاوِي</td>\n",
              "      <td>عامية</td>\n",
              "      <td>اسم</td>\n",
              "      <td>صفة</td>\n",
              "      <td>س و ي</td>\n",
              "      <td>مذكر</td>\n",
              "      <td>ساوي</td>\n",
              "      <td>ﻱﻭﺎﺳ</td>\n",
              "      <td>['س', 'ا', 'و', 'ي']</td>\n",
              "      <td>[['س', 'ﺱ', 'ﺴ', 'ﺳ', 'ﺴ'], ['ا', 'ﺍ', 'ﺎ'], [...</td>\n",
              "      <td>[initial, medial, medial, medial, medial, medi...</td>\n",
              "    </tr>\n",
              "    <tr>\n",
              "      <th>1</th>\n",
              "      <td>2023254711</td>\n",
              "      <td>رْكِيد</td>\n",
              "      <td>عامية</td>\n",
              "      <td>اسم</td>\n",
              "      <td>اسم</td>\n",
              "      <td>ر ك د</td>\n",
              "      <td>مذكر</td>\n",
              "      <td>ركيد</td>\n",
              "      <td>ﺪﻴﻛﺭ</td>\n",
              "      <td>['ر', 'ك', 'ي', 'د']</td>\n",
              "      <td>[['ر', 'ﺭ', 'ﺮ'], ['ك', 'ﻙ', 'ﻜ', 'ﻛ', 'ﻜ'], [...</td>\n",
              "      <td>[initial, medial, medial, medial, medial, medi...</td>\n",
              "    </tr>\n",
              "    <tr>\n",
              "      <th>2</th>\n",
              "      <td>2023254712</td>\n",
              "      <td>دُمَاجٌ</td>\n",
              "      <td>عامية</td>\n",
              "      <td>اسم</td>\n",
              "      <td>اسم</td>\n",
              "      <td>د م ج</td>\n",
              "      <td>مذكر</td>\n",
              "      <td>دماج</td>\n",
              "      <td>ﺝﺎﻣﺩ</td>\n",
              "      <td>['د', 'م', 'ا', 'ج']</td>\n",
              "      <td>[['د', 'ﺩ', 'ﺪ'], ['م', 'ﻡ', 'ﻤ', 'ﻣ', 'ﻤ'], [...</td>\n",
              "      <td>[initial, medial, medial, medial, medial, medi...</td>\n",
              "    </tr>\n",
              "    <tr>\n",
              "      <th>3</th>\n",
              "      <td>2023254713</td>\n",
              "      <td>دَامِرٌ</td>\n",
              "      <td>عامية</td>\n",
              "      <td>اسم</td>\n",
              "      <td>اسم</td>\n",
              "      <td>د م ر</td>\n",
              "      <td>مذكر</td>\n",
              "      <td>دامر</td>\n",
              "      <td>ﺮﻣﺍﺩ</td>\n",
              "      <td>['د', 'ا', 'م', 'ر']</td>\n",
              "      <td>[['د', 'ﺩ', 'ﺪ'], ['ا', 'ﺍ', 'ﺎ'], ['م', 'ﻡ', ...</td>\n",
              "      <td>[initial, medial, medial, medial, medial, medi...</td>\n",
              "    </tr>\n",
              "    <tr>\n",
              "      <th>4</th>\n",
              "      <td>2023254714</td>\n",
              "      <td>جَعَارٌ</td>\n",
              "      <td>عامية</td>\n",
              "      <td>اسم</td>\n",
              "      <td>صفة</td>\n",
              "      <td>ج ع ر</td>\n",
              "      <td>مذكر</td>\n",
              "      <td>جعار</td>\n",
              "      <td>ﺭﺎﻌﺟ</td>\n",
              "      <td>['ج', 'ع', 'ا', 'ر']</td>\n",
              "      <td>[['ج', 'ﺝ', 'ﺠ', 'ﺟ', 'ﺠ'], ['ع', 'ﻉ', 'ﻌ', 'ﻋ...</td>\n",
              "      <td>[initial, medial, medial, medial, medial, medi...</td>\n",
              "    </tr>\n",
              "  </tbody>\n",
              "</table>\n",
              "</div>"
            ],
            "text/plain": [
              "     lemma_id    lemma language pos_cat  pos   root gender normalized_lemma  \\\n",
              "0  2023254710   سَاوِي    عامية     اسم  صفة  س و ي   مذكر             ساوي   \n",
              "1  2023254711   رْكِيد    عامية     اسم  اسم  ر ك د   مذكر             ركيد   \n",
              "2  2023254712  دُمَاجٌ    عامية     اسم  اسم  د م ج   مذكر             دماج   \n",
              "3  2023254713  دَامِرٌ    عامية     اسم  اسم  د م ر   مذكر             دامر   \n",
              "4  2023254714  جَعَارٌ    عامية     اسم  صفة  ج ع ر   مذكر             جعار   \n",
              "\n",
              "  reshaped_lemma           char_tokens  \\\n",
              "0           ﻱﻭﺎﺳ  ['س', 'ا', 'و', 'ي']   \n",
              "1           ﺪﻴﻛﺭ  ['ر', 'ك', 'ي', 'د']   \n",
              "2           ﺝﺎﻣﺩ  ['د', 'م', 'ا', 'ج']   \n",
              "3           ﺮﻣﺍﺩ  ['د', 'ا', 'م', 'ر']   \n",
              "4           ﺭﺎﻌﺟ  ['ج', 'ع', 'ا', 'ر']   \n",
              "\n",
              "                                       letter_shapes  \\\n",
              "0  [['س', 'ﺱ', 'ﺴ', 'ﺳ', 'ﺴ'], ['ا', 'ﺍ', 'ﺎ'], [...   \n",
              "1  [['ر', 'ﺭ', 'ﺮ'], ['ك', 'ﻙ', 'ﻜ', 'ﻛ', 'ﻜ'], [...   \n",
              "2  [['د', 'ﺩ', 'ﺪ'], ['م', 'ﻡ', 'ﻤ', 'ﻣ', 'ﻤ'], [...   \n",
              "3  [['د', 'ﺩ', 'ﺪ'], ['ا', 'ﺍ', 'ﺎ'], ['م', 'ﻡ', ...   \n",
              "4  [['ج', 'ﺝ', 'ﺠ', 'ﺟ', 'ﺠ'], ['ع', 'ﻉ', 'ﻌ', 'ﻋ...   \n",
              "\n",
              "                                    letter_positions  \n",
              "0  [initial, medial, medial, medial, medial, medi...  \n",
              "1  [initial, medial, medial, medial, medial, medi...  \n",
              "2  [initial, medial, medial, medial, medial, medi...  \n",
              "3  [initial, medial, medial, medial, medial, medi...  \n",
              "4  [initial, medial, medial, medial, medial, medi...  "
            ]
          },
          "execution_count": 4,
          "metadata": {},
          "output_type": "execute_result"
        }
      ],
      "source": [
        "# Tag each letter with its position type\n",
        "def tag_letter_positions(tokens):\n",
        "    n = len(tokens)\n",
        "    positions = []\n",
        "    for i, letter in enumerate(tokens):\n",
        "        if n == 1:\n",
        "            positions.append('isolated')\n",
        "        elif i == 0:\n",
        "            positions.append('initial')\n",
        "        elif i == n - 1:\n",
        "            positions.append('final')\n",
        "        else:\n",
        "            positions.append('medial')\n",
        "    return positions\n",
        "\n",
        "df['letter_positions'] = df['char_tokens'].apply(tag_letter_positions)\n",
        "df.head()\n"
      ]
    },
    {
      "cell_type": "code",
      "execution_count": 5,
      "metadata": {
        "id": "GmLc2HTyZAXj"
      },
      "outputs": [],
      "source": [
        "# Flatten the DataFrame to character-level\n",
        "records = []\n",
        "\n",
        "for idx, row in df.iterrows():\n",
        "    lemma_id = row['lemma_id']\n",
        "    lemma = row['normalized_lemma']\n",
        "    tokens = row['char_tokens']\n",
        "    positions = row['letter_positions']\n",
        "    shapes = row['letter_shapes']\n",
        "\n",
        "    for i in range(len(tokens)):\n",
        "        records.append({\n",
        "            'lemma_id': lemma_id,\n",
        "            'lemma': lemma,\n",
        "            'char_index': i,\n",
        "            'letter': tokens[i],\n",
        "            'position': positions[i],\n",
        "            'shape_variants': shapes[i]\n",
        "        })\n",
        "\n",
        "char_df = pd.DataFrame(records)\n"
      ]
    },
    {
      "cell_type": "code",
      "execution_count": 6,
      "metadata": {
        "colab": {
          "base_uri": "https://localhost:8080/",
          "height": 206
        },
        "id": "m27pnietZFiV",
        "outputId": "bdae6d84-535a-4f4f-e351-bf042848e0bc"
      },
      "outputs": [
        {
          "data": {
            "text/html": [
              "<div>\n",
              "<style scoped>\n",
              "    .dataframe tbody tr th:only-of-type {\n",
              "        vertical-align: middle;\n",
              "    }\n",
              "\n",
              "    .dataframe tbody tr th {\n",
              "        vertical-align: top;\n",
              "    }\n",
              "\n",
              "    .dataframe thead th {\n",
              "        text-align: right;\n",
              "    }\n",
              "</style>\n",
              "<table border=\"1\" class=\"dataframe\">\n",
              "  <thead>\n",
              "    <tr style=\"text-align: right;\">\n",
              "      <th></th>\n",
              "      <th>lemma_id</th>\n",
              "      <th>lemma</th>\n",
              "      <th>char_index</th>\n",
              "      <th>letter</th>\n",
              "      <th>position</th>\n",
              "      <th>shape_variants</th>\n",
              "    </tr>\n",
              "  </thead>\n",
              "  <tbody>\n",
              "    <tr>\n",
              "      <th>0</th>\n",
              "      <td>2023254710</td>\n",
              "      <td>ساوي</td>\n",
              "      <td>0</td>\n",
              "      <td>[</td>\n",
              "      <td>initial</td>\n",
              "      <td>[</td>\n",
              "    </tr>\n",
              "    <tr>\n",
              "      <th>1</th>\n",
              "      <td>2023254710</td>\n",
              "      <td>ساوي</td>\n",
              "      <td>1</td>\n",
              "      <td>'</td>\n",
              "      <td>medial</td>\n",
              "      <td>[</td>\n",
              "    </tr>\n",
              "    <tr>\n",
              "      <th>2</th>\n",
              "      <td>2023254710</td>\n",
              "      <td>ساوي</td>\n",
              "      <td>2</td>\n",
              "      <td>س</td>\n",
              "      <td>medial</td>\n",
              "      <td>'</td>\n",
              "    </tr>\n",
              "    <tr>\n",
              "      <th>3</th>\n",
              "      <td>2023254710</td>\n",
              "      <td>ساوي</td>\n",
              "      <td>3</td>\n",
              "      <td>'</td>\n",
              "      <td>medial</td>\n",
              "      <td>س</td>\n",
              "    </tr>\n",
              "    <tr>\n",
              "      <th>4</th>\n",
              "      <td>2023254710</td>\n",
              "      <td>ساوي</td>\n",
              "      <td>4</td>\n",
              "      <td>,</td>\n",
              "      <td>medial</td>\n",
              "      <td>'</td>\n",
              "    </tr>\n",
              "  </tbody>\n",
              "</table>\n",
              "</div>"
            ],
            "text/plain": [
              "     lemma_id lemma  char_index letter position shape_variants\n",
              "0  2023254710  ساوي           0      [  initial              [\n",
              "1  2023254710  ساوي           1      '   medial              [\n",
              "2  2023254710  ساوي           2      س   medial              '\n",
              "3  2023254710  ساوي           3      '   medial              س\n",
              "4  2023254710  ساوي           4      ,   medial              '"
            ]
          },
          "execution_count": 6,
          "metadata": {},
          "output_type": "execute_result"
        }
      ],
      "source": [
        "char_df.head()\n"
      ]
    },
    {
      "cell_type": "code",
      "execution_count": 7,
      "metadata": {
        "id": "Qjeqf1aiZWHd"
      },
      "outputs": [],
      "source": [
        "#Label Encode the Letter\n",
        "#Convert each Arabic letter into an integer\n",
        "\n",
        "from sklearn.preprocessing import LabelEncoder\n",
        "\n",
        "letter_encoder = LabelEncoder()\n",
        "char_df['letter_id'] = letter_encoder.fit_transform(char_df['letter'])\n",
        "\n",
        "# Optional: save the mapping\n",
        "letter_mapping = dict(zip(letter_encoder.classes_, letter_encoder.transform(letter_encoder.classes_)))\n",
        "\n"
      ]
    },
    {
      "cell_type": "code",
      "execution_count": 8,
      "metadata": {
        "id": "OoOrtKDYZdYT"
      },
      "outputs": [],
      "source": [
        "#One-Hot Encode the Position\n",
        "#Convert initial, medial, final, isolated into one-hot columns\n",
        "\n",
        "position_dummies = pd.get_dummies(char_df['position'], prefix='pos')\n",
        "char_df = pd.concat([char_df, position_dummies], axis=1)\n"
      ]
    },
    {
      "cell_type": "code",
      "execution_count": 9,
      "metadata": {
        "id": "9aN-KTkcZwhm"
      },
      "outputs": [],
      "source": [
        "# Re-add any missing one-hot columns to avoid KeyError\n",
        "for col in ['pos_initial', 'pos_medial', 'pos_final', 'pos_isolated']:\n",
        "    if col not in char_df.columns:\n",
        "        char_df[col] = 0\n"
      ]
    },
    {
      "cell_type": "code",
      "execution_count": 10,
      "metadata": {
        "id": "ELCfQ8rLZjWn"
      },
      "outputs": [],
      "source": [
        "#Shape-Based Features\n",
        "# Number of shape variants\n",
        "char_df['num_shape_variants'] = char_df['shape_variants'].apply(len)\n",
        "\n",
        "# Unicode of base shape (first shape in list)\n",
        "char_df['base_shape_unicode'] = char_df['shape_variants'].apply(lambda shapes: ord(shapes[0]) if shapes else 0)\n"
      ]
    },
    {
      "cell_type": "code",
      "execution_count": 11,
      "metadata": {
        "colab": {
          "base_uri": "https://localhost:8080/",
          "height": 206
        },
        "id": "WKfxlRlGZm1z",
        "outputId": "c83a23ca-784f-49b4-d047-82748d815f85"
      },
      "outputs": [
        {
          "data": {
            "text/html": [
              "<div>\n",
              "<style scoped>\n",
              "    .dataframe tbody tr th:only-of-type {\n",
              "        vertical-align: middle;\n",
              "    }\n",
              "\n",
              "    .dataframe tbody tr th {\n",
              "        vertical-align: top;\n",
              "    }\n",
              "\n",
              "    .dataframe thead th {\n",
              "        text-align: right;\n",
              "    }\n",
              "</style>\n",
              "<table border=\"1\" class=\"dataframe\">\n",
              "  <thead>\n",
              "    <tr style=\"text-align: right;\">\n",
              "      <th></th>\n",
              "      <th>letter</th>\n",
              "      <th>letter_id</th>\n",
              "      <th>position</th>\n",
              "      <th>pos_initial</th>\n",
              "      <th>pos_medial</th>\n",
              "      <th>pos_final</th>\n",
              "      <th>pos_isolated</th>\n",
              "      <th>num_shape_variants</th>\n",
              "      <th>base_shape_unicode</th>\n",
              "    </tr>\n",
              "  </thead>\n",
              "  <tbody>\n",
              "    <tr>\n",
              "      <th>0</th>\n",
              "      <td>[</td>\n",
              "      <td>13</td>\n",
              "      <td>initial</td>\n",
              "      <td>True</td>\n",
              "      <td>False</td>\n",
              "      <td>False</td>\n",
              "      <td>0</td>\n",
              "      <td>1</td>\n",
              "      <td>91</td>\n",
              "    </tr>\n",
              "    <tr>\n",
              "      <th>1</th>\n",
              "      <td>'</td>\n",
              "      <td>1</td>\n",
              "      <td>medial</td>\n",
              "      <td>False</td>\n",
              "      <td>True</td>\n",
              "      <td>False</td>\n",
              "      <td>0</td>\n",
              "      <td>1</td>\n",
              "      <td>91</td>\n",
              "    </tr>\n",
              "    <tr>\n",
              "      <th>2</th>\n",
              "      <td>س</td>\n",
              "      <td>35</td>\n",
              "      <td>medial</td>\n",
              "      <td>False</td>\n",
              "      <td>True</td>\n",
              "      <td>False</td>\n",
              "      <td>0</td>\n",
              "      <td>1</td>\n",
              "      <td>39</td>\n",
              "    </tr>\n",
              "    <tr>\n",
              "      <th>3</th>\n",
              "      <td>'</td>\n",
              "      <td>1</td>\n",
              "      <td>medial</td>\n",
              "      <td>False</td>\n",
              "      <td>True</td>\n",
              "      <td>False</td>\n",
              "      <td>0</td>\n",
              "      <td>1</td>\n",
              "      <td>1587</td>\n",
              "    </tr>\n",
              "    <tr>\n",
              "      <th>4</th>\n",
              "      <td>,</td>\n",
              "      <td>3</td>\n",
              "      <td>medial</td>\n",
              "      <td>False</td>\n",
              "      <td>True</td>\n",
              "      <td>False</td>\n",
              "      <td>0</td>\n",
              "      <td>1</td>\n",
              "      <td>39</td>\n",
              "    </tr>\n",
              "  </tbody>\n",
              "</table>\n",
              "</div>"
            ],
            "text/plain": [
              "  letter  letter_id position  pos_initial  pos_medial  pos_final  \\\n",
              "0      [         13  initial         True       False      False   \n",
              "1      '          1   medial        False        True      False   \n",
              "2      س         35   medial        False        True      False   \n",
              "3      '          1   medial        False        True      False   \n",
              "4      ,          3   medial        False        True      False   \n",
              "\n",
              "   pos_isolated  num_shape_variants  base_shape_unicode  \n",
              "0             0                   1                  91  \n",
              "1             0                   1                  91  \n",
              "2             0                   1                  39  \n",
              "3             0                   1                1587  \n",
              "4             0                   1                  39  "
            ]
          },
          "execution_count": 11,
          "metadata": {},
          "output_type": "execute_result"
        }
      ],
      "source": [
        "char_df[['letter', 'letter_id', 'position', 'pos_initial', 'pos_medial', 'pos_final', 'pos_isolated', 'num_shape_variants', 'base_shape_unicode']].head()\n"
      ]
    },
    {
      "cell_type": "markdown",
      "metadata": {
        "id": "V_BAClvaaCkR"
      },
      "source": [
        "###Visualization\n"
      ]
    },
    {
      "cell_type": "code",
      "execution_count": 12,
      "metadata": {
        "colab": {
          "base_uri": "https://localhost:8080/",
          "height": 746
        },
        "id": "lqtLmw-naFd-",
        "outputId": "94835888-e7e2-4e7c-8abb-185c7dad8540"
      },
      "outputs": [
        {
          "name": "stderr",
          "output_type": "stream",
          "text": [
            "/Library/Frameworks/Python.framework/Versions/3.11/lib/python3.11/site-packages/seaborn/_base.py:949: FutureWarning: When grouping with a length-1 list-like, you will need to pass a length-1 tuple to get_group in a future version of pandas. Pass `(name,)` instead of `name` to silence this warning.\n",
            "  data_subset = grouped_data.get_group(pd_key)\n",
            "/Library/Frameworks/Python.framework/Versions/3.11/lib/python3.11/site-packages/seaborn/_base.py:949: FutureWarning: When grouping with a length-1 list-like, you will need to pass a length-1 tuple to get_group in a future version of pandas. Pass `(name,)` instead of `name` to silence this warning.\n",
            "  data_subset = grouped_data.get_group(pd_key)\n",
            "/Library/Frameworks/Python.framework/Versions/3.11/lib/python3.11/site-packages/seaborn/_base.py:949: FutureWarning: When grouping with a length-1 list-like, you will need to pass a length-1 tuple to get_group in a future version of pandas. Pass `(name,)` instead of `name` to silence this warning.\n",
            "  data_subset = grouped_data.get_group(pd_key)\n",
            "/var/folders/vl/f02hnxjj1h3b9g17p02rdg700000gn/T/ipykernel_41789/773028274.py:12: UserWarning: Glyph 1649 (\\N{ARABIC LETTER ALEF WASLA}) missing from current font.\n",
            "  plt.tight_layout()\n",
            "/var/folders/vl/f02hnxjj1h3b9g17p02rdg700000gn/T/ipykernel_41789/773028274.py:12: UserWarning: Matplotlib currently does not support Arabic natively.\n",
            "  plt.tight_layout()\n",
            "/Users/talineshawwa/Library/Python/3.11/lib/python/site-packages/IPython/core/pylabtools.py:152: UserWarning: Glyph 1649 (\\N{ARABIC LETTER ALEF WASLA}) missing from current font.\n",
            "  fig.canvas.print_figure(bytes_io, **kw)\n",
            "/Users/talineshawwa/Library/Python/3.11/lib/python/site-packages/IPython/core/pylabtools.py:152: UserWarning: Matplotlib currently does not support Arabic natively.\n",
            "  fig.canvas.print_figure(bytes_io, **kw)\n"
          ]
        },
        {
          "data": {
            "image/png": "[encoded data removed]",
            "text/plain": [
              "<Figure size 1200x600 with 1 Axes>"
            ]
          },
          "metadata": {},
          "output_type": "display_data"
        }
      ],
      "source": [
        "#Letter Frequency by Position\n",
        "import matplotlib.pyplot as plt\n",
        "import seaborn as sns\n",
        "\n",
        "plt.figure(figsize=(12, 6))\n",
        "sns.countplot(data=char_df, x='letter', hue='position', order=char_df['letter'].value_counts().index)\n",
        "plt.title(\"Letter Frequency by Position\")\n",
        "plt.xlabel(\"Arabic Letter\")\n",
        "plt.ylabel(\"Count\")\n",
        "plt.legend(title=\"Position\")\n",
        "plt.xticks(rotation=45)\n",
        "plt.tight_layout()\n",
        "plt.show()\n"
      ]
    },
    {
      "cell_type": "code",
      "execution_count": 14,
      "metadata": {},
      "outputs": [
        {
          "data": {
            "text/html": [
              "<div>\n",
              "<style scoped>\n",
              "    .dataframe tbody tr th:only-of-type {\n",
              "        vertical-align: middle;\n",
              "    }\n",
              "\n",
              "    .dataframe tbody tr th {\n",
              "        vertical-align: top;\n",
              "    }\n",
              "\n",
              "    .dataframe thead th {\n",
              "        text-align: right;\n",
              "    }\n",
              "</style>\n",
              "<table border=\"1\" class=\"dataframe\">\n",
              "  <thead>\n",
              "    <tr style=\"text-align: right;\">\n",
              "      <th></th>\n",
              "      <th>lemma_id</th>\n",
              "      <th>lemma</th>\n",
              "      <th>char_index</th>\n",
              "      <th>letter</th>\n",
              "      <th>position</th>\n",
              "      <th>shape_variants</th>\n",
              "      <th>letter_id</th>\n",
              "      <th>pos_final</th>\n",
              "      <th>pos_initial</th>\n",
              "      <th>pos_medial</th>\n",
              "      <th>pos_isolated</th>\n",
              "      <th>num_shape_variants</th>\n",
              "      <th>base_shape_unicode</th>\n",
              "    </tr>\n",
              "  </thead>\n",
              "  <tbody>\n",
              "    <tr>\n",
              "      <th>0</th>\n",
              "      <td>2023254710</td>\n",
              "      <td>ساوي</td>\n",
              "      <td>2</td>\n",
              "      <td>س</td>\n",
              "      <td>medial</td>\n",
              "      <td>'</td>\n",
              "      <td>35</td>\n",
              "      <td>False</td>\n",
              "      <td>False</td>\n",
              "      <td>True</td>\n",
              "      <td>0</td>\n",
              "      <td>1</td>\n",
              "      <td>39</td>\n",
              "    </tr>\n",
              "    <tr>\n",
              "      <th>1</th>\n",
              "      <td>2023254710</td>\n",
              "      <td>ساوي</td>\n",
              "      <td>7</td>\n",
              "      <td>ا</td>\n",
              "      <td>medial</td>\n",
              "      <td>'</td>\n",
              "      <td>23</td>\n",
              "      <td>False</td>\n",
              "      <td>False</td>\n",
              "      <td>True</td>\n",
              "      <td>0</td>\n",
              "      <td>1</td>\n",
              "      <td>39</td>\n",
              "    </tr>\n",
              "    <tr>\n",
              "      <th>2</th>\n",
              "      <td>2023254710</td>\n",
              "      <td>ساوي</td>\n",
              "      <td>12</td>\n",
              "      <td>و</td>\n",
              "      <td>medial</td>\n",
              "      <td>'</td>\n",
              "      <td>51</td>\n",
              "      <td>False</td>\n",
              "      <td>False</td>\n",
              "      <td>True</td>\n",
              "      <td>0</td>\n",
              "      <td>1</td>\n",
              "      <td>39</td>\n",
              "    </tr>\n",
              "    <tr>\n",
              "      <th>3</th>\n",
              "      <td>2023254710</td>\n",
              "      <td>ساوي</td>\n",
              "      <td>17</td>\n",
              "      <td>ي</td>\n",
              "      <td>medial</td>\n",
              "      <td>'</td>\n",
              "      <td>52</td>\n",
              "      <td>False</td>\n",
              "      <td>False</td>\n",
              "      <td>True</td>\n",
              "      <td>0</td>\n",
              "      <td>1</td>\n",
              "      <td>39</td>\n",
              "    </tr>\n",
              "    <tr>\n",
              "      <th>4</th>\n",
              "      <td>2023254711</td>\n",
              "      <td>ركيد</td>\n",
              "      <td>2</td>\n",
              "      <td>ر</td>\n",
              "      <td>medial</td>\n",
              "      <td>'</td>\n",
              "      <td>33</td>\n",
              "      <td>False</td>\n",
              "      <td>False</td>\n",
              "      <td>True</td>\n",
              "      <td>0</td>\n",
              "      <td>1</td>\n",
              "      <td>39</td>\n",
              "    </tr>\n",
              "  </tbody>\n",
              "</table>\n",
              "</div>"
            ],
            "text/plain": [
              "     lemma_id lemma  char_index letter position shape_variants  letter_id  \\\n",
              "0  2023254710  ساوي           2      س   medial              '         35   \n",
              "1  2023254710  ساوي           7      ا   medial              '         23   \n",
              "2  2023254710  ساوي          12      و   medial              '         51   \n",
              "3  2023254710  ساوي          17      ي   medial              '         52   \n",
              "4  2023254711  ركيد           2      ر   medial              '         33   \n",
              "\n",
              "   pos_final  pos_initial  pos_medial  pos_isolated  num_shape_variants  \\\n",
              "0      False        False        True             0                   1   \n",
              "1      False        False        True             0                   1   \n",
              "2      False        False        True             0                   1   \n",
              "3      False        False        True             0                   1   \n",
              "4      False        False        True             0                   1   \n",
              "\n",
              "   base_shape_unicode  \n",
              "0                  39  \n",
              "1                  39  \n",
              "2                  39  \n",
              "3                  39  \n",
              "4                  39  "
            ]
          },
          "execution_count": 14,
          "metadata": {},
          "output_type": "execute_result"
        }
      ],
      "source": [
        "import re\n",
        "\n",
        "# Define Arabic Unicode range\n",
        "def is_arabic_letter(char):\n",
        "    return re.match(r'[\\u0620-\\u064A]', char) is not None\n",
        "\n",
        "# Filter the DataFrame\n",
        "char_df_clean = char_df[char_df['letter'].apply(is_arabic_letter)].copy()\n",
        "\n",
        "# Optional: Reset index after filtering\n",
        "char_df_clean.reset_index(drop=True, inplace=True)\n",
        "char_df_clean.head()"
      ]
    },
    {
      "cell_type": "code",
      "execution_count": 15,
      "metadata": {},
      "outputs": [
        {
          "name": "stderr",
          "output_type": "stream",
          "text": [
            "/Library/Frameworks/Python.framework/Versions/3.11/lib/python3.11/site-packages/seaborn/_base.py:949: FutureWarning: When grouping with a length-1 list-like, you will need to pass a length-1 tuple to get_group in a future version of pandas. Pass `(name,)` instead of `name` to silence this warning.\n",
            "  data_subset = grouped_data.get_group(pd_key)\n"
          ]
        },
        {
          "data": {
            "image/png": "[encoded data removed]",
            "text/plain": [
              "<Figure size 1200x600 with 1 Axes>"
            ]
          },
          "metadata": {},
          "output_type": "display_data"
        }
      ],
      "source": [
        "#Letter Frequency by Position\n",
        "import matplotlib.pyplot as plt\n",
        "import seaborn as sns\n",
        "\n",
        "plt.figure(figsize=(12, 6))\n",
        "sns.countplot(data=char_df_clean, x='letter', hue='position', order=char_df_clean['letter'].value_counts().index)\n",
        "plt.title(\"Letter Frequency by Position\")\n",
        "plt.xlabel(\"Arabic Letter\")\n",
        "plt.ylabel(\"Count\")\n",
        "plt.legend(title=\"Position\")\n",
        "plt.xticks(rotation=45)\n",
        "plt.tight_layout()\n",
        "plt.show()"
      ]
    },
    {
      "cell_type": "code",
      "execution_count": 16,
      "metadata": {
        "colab": {
          "base_uri": "https://localhost:8080/",
          "height": 407
        },
        "id": "CE2MhMSzaReN",
        "outputId": "cbad4f64-60af-4f3b-d251-d2a99b1cb0a8"
      },
      "outputs": [
        {
          "data": {
            "image/png": "[encoded data removed]",
            "text/plain": [
              "<Figure size 600x400 with 1 Axes>"
            ]
          },
          "metadata": {},
          "output_type": "display_data"
        }
      ],
      "source": [
        "#Position Distribution for a Specific Letter (e.g. \"ي\")\n",
        "letter_focus = \"ي\"\n",
        "letter_position_counts = char_df[char_df['letter'] == letter_focus]['position'].value_counts()\n",
        "\n",
        "plt.figure(figsize=(6, 4))\n",
        "sns.barplot(x=letter_position_counts.index, y=letter_position_counts.values)\n",
        "plt.title(f\"Position Distribution for Letter '{letter_focus}'\")\n",
        "plt.xlabel(\"Position\")\n",
        "plt.ylabel(\"Count\")\n",
        "plt.tight_layout()\n",
        "plt.show()\n"
      ]
    },
    {
      "cell_type": "markdown",
      "metadata": {
        "id": "HI7tWPzyau-n"
      },
      "source": [
        "###Embedding-Based Feature Extraction for Arabic Letters\n"
      ]
    },
    {
      "cell_type": "code",
      "execution_count": 17,
      "metadata": {
        "colab": {
          "base_uri": "https://localhost:8080/"
        },
        "id": "euqXzXnVcbBT",
        "outputId": "f98abbf3-fc3c-4530-edd6-78298bcad195"
      },
      "outputs": [
        {
          "name": "stdout",
          "output_type": "stream",
          "text": [
            "Defaulting to user installation because normal site-packages is not writeable\n",
            "Requirement already satisfied: gensim in /Users/talineshawwa/Library/Python/3.11/lib/python/site-packages (4.3.3)\n",
            "Requirement already satisfied: numpy<2.0,>=1.18.5 in /Users/talineshawwa/Library/Python/3.11/lib/python/site-packages (from gensim) (1.26.4)\n",
            "Requirement already satisfied: scipy<1.14.0,>=1.7.0 in /Users/talineshawwa/Library/Python/3.11/lib/python/site-packages (from gensim) (1.13.1)\n",
            "Requirement already satisfied: smart-open>=1.8.1 in /Users/talineshawwa/Library/Python/3.11/lib/python/site-packages (from gensim) (7.1.0)\n",
            "Requirement already satisfied: wrapt in /Users/talineshawwa/Library/Python/3.11/lib/python/site-packages (from smart-open>=1.8.1->gensim) (1.17.2)\n"
          ]
        }
      ],
      "source": [
        "!pip install gensim\n"
      ]
    },
    {
      "cell_type": "markdown",
      "metadata": {
        "id": "ZZSgRbqYcfIm"
      },
      "source": [
        "Prepare Data - List of Character Sequences"
      ]
    },
    {
      "cell_type": "code",
      "execution_count": 24,
      "metadata": {},
      "outputs": [],
      "source": [
        "from gensim.models import FastText"
      ]
    },
    {
      "cell_type": "code",
      "execution_count": 23,
      "metadata": {
        "id": "sLAgfVtkcipU"
      },
      "outputs": [],
      "source": [
        "shaped_sentences = df['letter_shapes'].tolist()  # each word as list of shaped forms\n",
        "letter_model = FastText(shaped_sentences, vector_size=50, window=2, min_count=1, sg=1, epochs=20)"
      ]
    },
    {
      "cell_type": "code",
      "execution_count": 26,
      "metadata": {},
      "outputs": [],
      "source": [
        "# Define the get_letter_vector function\n",
        "def get_letter_vector(letter):\n",
        "\ttry:\n",
        "\t\treturn letter_model.wv[letter]\n",
        "\texcept KeyError:\n",
        "\t\treturn np.zeros(letter_model.vector_size)\n",
        "\n",
        "# Apply the function to the first shape variant\n",
        "char_df['letter_embedding'] = char_df['shape_variants'].apply(lambda shapes: get_letter_vector(shapes[0]))"
      ]
    },
    {
      "cell_type": "code",
      "execution_count": 27,
      "metadata": {
        "colab": {
          "base_uri": "https://localhost:8080/"
        },
        "id": "WDV3cn0acvZw",
        "outputId": "2589f34d-ae3e-439b-ed80-38700a94895e"
      },
      "outputs": [
        {
          "data": {
            "text/plain": [
              "array([ 0.11812426, -0.3607117 ,  0.26395336, -0.22258458,  0.09419315,\n",
              "       -0.03493469,  0.04653449,  0.02853779,  0.1472972 ,  0.24983013,\n",
              "        0.02207581, -0.06876344,  0.11008461, -0.08421592,  0.5747396 ,\n",
              "        0.11670034,  0.14545918,  0.06525522, -0.10289349, -0.3555185 ,\n",
              "        0.12104082,  0.07942572,  0.04327778, -0.2911688 ,  0.03076461,\n",
              "        0.01568506,  0.02553504,  0.15659495, -0.27359328, -0.00700751,\n",
              "        0.07324548, -0.5023872 ,  0.15369457,  0.03210517,  0.03021166,\n",
              "        0.12091064, -0.05767994, -0.040955  ,  0.40674105,  0.11328465,\n",
              "        0.3536175 ,  0.12765096, -0.03428529, -0.09628476,  0.1999197 ,\n",
              "       -0.26520768,  0.61646163, -0.688004  , -0.4583441 ,  0.13178423],\n",
              "      dtype=float32)"
            ]
          },
          "execution_count": 27,
          "metadata": {},
          "output_type": "execute_result"
        }
      ],
      "source": [
        "letter_model.wv['ي']\n"
      ]
    },
    {
      "cell_type": "markdown",
      "metadata": {
        "id": "oU8ziOfDfZMc"
      },
      "source": [
        "###Structuring the final dataset"
      ]
    },
    {
      "cell_type": "code",
      "execution_count": 28,
      "metadata": {
        "id": "a1aWFvGVfbUH"
      },
      "outputs": [],
      "source": [
        "import pandas as pd\n",
        "import numpy as np\n",
        "from sklearn.preprocessing import LabelEncoder\n"
      ]
    },
    {
      "cell_type": "code",
      "execution_count": 22,
      "metadata": {
        "id": "b7vBLV_zfm6F"
      },
      "outputs": [],
      "source": [
        "#Encode Letter & Position Features\n",
        "# Label Encode letter\n",
        "letter_encoder = LabelEncoder()\n",
        "char_df_clean['letter_id'] = letter_encoder.fit_transform(char_df_clean['letter'])\n",
        "\n",
        "# One-hot encode position\n",
        "position_dummies = pd.get_dummies(char_df_clean['position'], prefix='pos')\n",
        "\n",
        "# Add missing position types if not present\n",
        "for pos_col in ['pos_initial', 'pos_medial', 'pos_final', 'pos_isolated']:\n",
        "    if pos_col not in position_dummies.columns:\n",
        "        position_dummies[pos_col] = 0\n",
        "\n",
        "char_df_clean = pd.concat([char_df_clean, position_dummies], axis=1)\n",
        "\n",
        "# Shape feature: number of shape variants\n",
        "char_df_clean['num_shape_variants'] = char_df_clean['shape_variants'].apply(len)\n",
        "\n",
        "# Use the actual letter (normalized) as label\n",
        "char_df_clean[\"base_shape_unicode\"] = char_df_clean[\"letter\"].apply(lambda x: ord(x))"
      ]
    },
    {
      "cell_type": "code",
      "execution_count": 30,
      "metadata": {
        "colab": {
          "base_uri": "https://localhost:8080/",
          "height": 255
        },
        "id": "c3hjE1cyfxmO",
        "outputId": "a981b4bc-6876-4197-dc74-d839c2b5566e"
      },
      "outputs": [
        {
          "data": {
            "text/html": [
              "<div>\n",
              "<style scoped>\n",
              "    .dataframe tbody tr th:only-of-type {\n",
              "        vertical-align: middle;\n",
              "    }\n",
              "\n",
              "    .dataframe tbody tr th {\n",
              "        vertical-align: top;\n",
              "    }\n",
              "\n",
              "    .dataframe thead th {\n",
              "        text-align: right;\n",
              "    }\n",
              "</style>\n",
              "<table border=\"1\" class=\"dataframe\">\n",
              "  <thead>\n",
              "    <tr style=\"text-align: right;\">\n",
              "      <th></th>\n",
              "      <th>lemma_id</th>\n",
              "      <th>lemma</th>\n",
              "      <th>char_index</th>\n",
              "      <th>letter</th>\n",
              "      <th>letter_id</th>\n",
              "      <th>position</th>\n",
              "      <th>num_shape_variants</th>\n",
              "      <th>base_shape_unicode</th>\n",
              "      <th>pos_initial</th>\n",
              "      <th>pos_medial</th>\n",
              "      <th>...</th>\n",
              "      <th>embedding_40</th>\n",
              "      <th>embedding_41</th>\n",
              "      <th>embedding_42</th>\n",
              "      <th>embedding_43</th>\n",
              "      <th>embedding_44</th>\n",
              "      <th>embedding_45</th>\n",
              "      <th>embedding_46</th>\n",
              "      <th>embedding_47</th>\n",
              "      <th>embedding_48</th>\n",
              "      <th>embedding_49</th>\n",
              "    </tr>\n",
              "  </thead>\n",
              "  <tbody>\n",
              "    <tr>\n",
              "      <th>0</th>\n",
              "      <td>2023254710</td>\n",
              "      <td>ساوي</td>\n",
              "      <td>0</td>\n",
              "      <td>[</td>\n",
              "      <td>13</td>\n",
              "      <td>initial</td>\n",
              "      <td>1</td>\n",
              "      <td>91</td>\n",
              "      <td>True</td>\n",
              "      <td>False</td>\n",
              "      <td>...</td>\n",
              "      <td>-0.039033</td>\n",
              "      <td>0.122040</td>\n",
              "      <td>0.028280</td>\n",
              "      <td>-0.161470</td>\n",
              "      <td>-0.060091</td>\n",
              "      <td>0.067087</td>\n",
              "      <td>-0.018345</td>\n",
              "      <td>0.038115</td>\n",
              "      <td>-0.441543</td>\n",
              "      <td>0.530142</td>\n",
              "    </tr>\n",
              "    <tr>\n",
              "      <th>1</th>\n",
              "      <td>2023254710</td>\n",
              "      <td>ساوي</td>\n",
              "      <td>1</td>\n",
              "      <td>'</td>\n",
              "      <td>1</td>\n",
              "      <td>medial</td>\n",
              "      <td>1</td>\n",
              "      <td>91</td>\n",
              "      <td>False</td>\n",
              "      <td>True</td>\n",
              "      <td>...</td>\n",
              "      <td>0.011271</td>\n",
              "      <td>0.054527</td>\n",
              "      <td>-0.076664</td>\n",
              "      <td>0.015907</td>\n",
              "      <td>-0.091826</td>\n",
              "      <td>0.126399</td>\n",
              "      <td>0.119841</td>\n",
              "      <td>0.009380</td>\n",
              "      <td>-0.573630</td>\n",
              "      <td>0.576293</td>\n",
              "    </tr>\n",
              "    <tr>\n",
              "      <th>2</th>\n",
              "      <td>2023254710</td>\n",
              "      <td>ساوي</td>\n",
              "      <td>2</td>\n",
              "      <td>س</td>\n",
              "      <td>35</td>\n",
              "      <td>medial</td>\n",
              "      <td>1</td>\n",
              "      <td>39</td>\n",
              "      <td>False</td>\n",
              "      <td>True</td>\n",
              "      <td>...</td>\n",
              "      <td>-0.157184</td>\n",
              "      <td>-0.093029</td>\n",
              "      <td>-0.063822</td>\n",
              "      <td>0.029519</td>\n",
              "      <td>0.672422</td>\n",
              "      <td>0.218081</td>\n",
              "      <td>-0.085644</td>\n",
              "      <td>-0.564145</td>\n",
              "      <td>-0.195410</td>\n",
              "      <td>0.276927</td>\n",
              "    </tr>\n",
              "    <tr>\n",
              "      <th>3</th>\n",
              "      <td>2023254710</td>\n",
              "      <td>ساوي</td>\n",
              "      <td>3</td>\n",
              "      <td>'</td>\n",
              "      <td>1</td>\n",
              "      <td>medial</td>\n",
              "      <td>1</td>\n",
              "      <td>1587</td>\n",
              "      <td>False</td>\n",
              "      <td>True</td>\n",
              "      <td>...</td>\n",
              "      <td>0.011271</td>\n",
              "      <td>0.054527</td>\n",
              "      <td>-0.076664</td>\n",
              "      <td>0.015907</td>\n",
              "      <td>-0.091826</td>\n",
              "      <td>0.126399</td>\n",
              "      <td>0.119841</td>\n",
              "      <td>0.009380</td>\n",
              "      <td>-0.573630</td>\n",
              "      <td>0.576293</td>\n",
              "    </tr>\n",
              "    <tr>\n",
              "      <th>4</th>\n",
              "      <td>2023254710</td>\n",
              "      <td>ساوي</td>\n",
              "      <td>4</td>\n",
              "      <td>,</td>\n",
              "      <td>3</td>\n",
              "      <td>medial</td>\n",
              "      <td>1</td>\n",
              "      <td>39</td>\n",
              "      <td>False</td>\n",
              "      <td>True</td>\n",
              "      <td>...</td>\n",
              "      <td>0.055607</td>\n",
              "      <td>0.146301</td>\n",
              "      <td>-0.127916</td>\n",
              "      <td>0.105109</td>\n",
              "      <td>-0.073792</td>\n",
              "      <td>0.127222</td>\n",
              "      <td>-0.022000</td>\n",
              "      <td>-0.097446</td>\n",
              "      <td>-0.697940</td>\n",
              "      <td>0.457219</td>\n",
              "    </tr>\n",
              "  </tbody>\n",
              "</table>\n",
              "<p>5 rows × 62 columns</p>\n",
              "</div>"
            ],
            "text/plain": [
              "     lemma_id lemma  char_index letter  letter_id position  \\\n",
              "0  2023254710  ساوي           0      [         13  initial   \n",
              "1  2023254710  ساوي           1      '          1   medial   \n",
              "2  2023254710  ساوي           2      س         35   medial   \n",
              "3  2023254710  ساوي           3      '          1   medial   \n",
              "4  2023254710  ساوي           4      ,          3   medial   \n",
              "\n",
              "   num_shape_variants  base_shape_unicode  pos_initial  pos_medial  ...  \\\n",
              "0                   1                  91         True       False  ...   \n",
              "1                   1                  91        False        True  ...   \n",
              "2                   1                  39        False        True  ...   \n",
              "3                   1                1587        False        True  ...   \n",
              "4                   1                  39        False        True  ...   \n",
              "\n",
              "   embedding_40  embedding_41  embedding_42  embedding_43  embedding_44  \\\n",
              "0     -0.039033      0.122040      0.028280     -0.161470     -0.060091   \n",
              "1      0.011271      0.054527     -0.076664      0.015907     -0.091826   \n",
              "2     -0.157184     -0.093029     -0.063822      0.029519      0.672422   \n",
              "3      0.011271      0.054527     -0.076664      0.015907     -0.091826   \n",
              "4      0.055607      0.146301     -0.127916      0.105109     -0.073792   \n",
              "\n",
              "   embedding_45  embedding_46  embedding_47  embedding_48  embedding_49  \n",
              "0      0.067087     -0.018345      0.038115     -0.441543      0.530142  \n",
              "1      0.126399      0.119841      0.009380     -0.573630      0.576293  \n",
              "2      0.218081     -0.085644     -0.564145     -0.195410      0.276927  \n",
              "3      0.126399      0.119841      0.009380     -0.573630      0.576293  \n",
              "4      0.127222     -0.022000     -0.097446     -0.697940      0.457219  \n",
              "\n",
              "[5 rows x 62 columns]"
            ]
          },
          "execution_count": 30,
          "metadata": {},
          "output_type": "execute_result"
        }
      ],
      "source": [
        "# Flatten the embedding into separate columns\n",
        "embedding_dim = letter_model.vector_size\n",
        "embedding_df = pd.DataFrame(char_df['letter_embedding'].tolist(),\n",
        "                            columns=[f'embedding_{i}' for i in range(embedding_dim)])\n",
        "\n",
        "# Combine everything\n",
        "final_df = pd.concat([\n",
        "    char_df[['lemma_id', 'lemma', 'char_index', 'letter', 'letter_id', 'position',\n",
        "             'num_shape_variants', 'base_shape_unicode',\n",
        "             'pos_initial', 'pos_medial', 'pos_final', 'pos_isolated']],\n",
        "    embedding_df\n",
        "], axis=1)\n",
        "\n",
        "final_df.head()\n"
      ]
    },
    {
      "cell_type": "code",
      "execution_count": 31,
      "metadata": {
        "id": "YHizfQ72gCmO"
      },
      "outputs": [],
      "source": [
        "final_df.to_csv(\"final_char_features.csv\", index=False)\n"
      ]
    }
  ],
  "metadata": {
    "colab": {
      "provenance": []
    },
    "kernelspec": {
      "display_name": "Python 3",
      "name": "python3"
    },
    "language_info": {
      "codemirror_mode": {
        "name": "ipython",
        "version": 3
      },
      "file_extension": ".py",
      "mimetype": "text/x-python",
      "name": "python",
      "nbconvert_exporter": "python",
      "pygments_lexer": "ipython3",
      "version": "3.11.1"
    }
  },
  "nbformat": 4,
  "nbformat_minor": 0
}
